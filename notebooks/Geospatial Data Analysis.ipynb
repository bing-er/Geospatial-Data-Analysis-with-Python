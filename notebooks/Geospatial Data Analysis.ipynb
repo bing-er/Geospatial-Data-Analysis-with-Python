{
 "cells": [
  {
   "cell_type": "markdown",
   "id": "fcb0600f-133c-4de6-971b-d912d6bd726c",
   "metadata": {},
   "source": [
    "# Geospatial Data Analysis with Python"
   ]
  },
  {
   "cell_type": "markdown",
   "id": "5586c6cd-0156-42af-8ced-acd2944e1e4b",
   "metadata": {},
   "source": [
    "## Introduction to GeoPandas\n",
    "### Objective:\n",
    "GeoPandas enhances the capabilities of pandas by enabling spatial data operations that are crucial for a wide range of applications, from urban planning and environmental monitoring to transportation logistics. It allows for efficient analysis and visualization of geospatial data, merging the capabilities of pandas and spatial operations into a single, powerful library.\n",
    "\n",
    "### Tools Overview:\n",
    "GeoPandas, coupled with Folium, provides a robust platform for handling, analyzing, and visualizing geospatial data. While GeoPandas excels in manipulating vector data through GeoDataFrames, Folium is excellent for creating interactive maps that enhance the visualization of geographical analyses."
   ]
  },
  {
   "cell_type": "markdown",
   "id": "fbe39189-8139-4d28-b573-04f6f3467a3f",
   "metadata": {},
   "source": [
    "### 1. Handling Spatial Data with GeoPandas\n",
    "#### Vector Data:\n",
    "Vector data is essential in describing the earth's surface and includes:\n",
    "    * Points: Represent specific locations.\n",
    "    * Lines: Define routes or connections between points.\n",
    "    * Polygons: Encapsulate areas such as city boundaries or lakes.\n",
    "\n",
    "#### Raster Data:\n",
    "Contrastingly, raster data portrays the world as a continuous surface made up of pixels, each representing a value that depicts aspects like elevation or temperature. While GeoPandas primarily handles vector data, it can integrate with libraries like rasterio to manage raster data."
   ]
  },
  {
   "cell_type": "markdown",
   "id": "46d46988-72d3-4c4e-896f-6a89ff3d1525",
   "metadata": {},
   "source": [
    "### 2. Reading & Writing Spatial Data\n",
    "#### Functionality:\n",
    "GeoPandas offers the read_file() function to import a wide array of vector-based spatial data formats, facilitating easy integration and manipulation within the Python ecosystem.\n",
    "\n",
    "#### Common Data Formats:\n",
    "- Shapefile: A prevalent vector data format in the GIS community, consisting of several files:\n",
    "    - .shp: Stores the geometry.\n",
    "    - .dbf: Contains attribute data for each shape.\n",
    "    - .shx: Links attributes to their corresponding shapes. Often distributed as a compressed zip file to manage these multiple \n",
    "\n",
    "- components together.\n",
    "GeoJSON: A modern format for encoding geographic data structures, released in 2016. Its simplicity and efficiency stem from being a single-file format, making it particularly user-friendly for web-based applications.\n",
    "\n",
    "#### Example - Loading and Examining Data:\n",
    "To demonstrate GeoPandas' capabilities, let's load a GeoJSON file containing districts of Barcelona from a GitHub repository and display its initial data:"
   ]
  },
  {
   "cell_type": "code",
   "execution_count": null,
   "id": "4fb02f63-f29c-402c-89e4-6205ca7ebd1c",
   "metadata": {
    "scrolled": true
   },
   "outputs": [],
   "source": [
    "#pip install geopandas --user"
   ]
  },
  {
   "cell_type": "code",
   "execution_count": null,
   "id": "eaed193e-d291-4e43-93ae-137d191bf235",
   "metadata": {},
   "outputs": [],
   "source": [
    "import geopandas as gpd\n",
    "# Define the URL to access the GeoJSON file containing district data for Barcelona.\n",
    "url = 'https://raw.githubusercontent.com/jcanalesluna/bcn-geodata/master/districtes/districtes.geojson'\n",
    "\n",
    "# Load the GeoJSON file into a GeoDataFrame named 'districts' using geopandas' read_file function.\n",
    "# This function directly fetches and parses the GeoJSON data from the provided URL.\n",
    "districts = gpd.read_file(url)\n",
    "\n",
    "# Display the first five rows of the 'districts' GeoDataFrame to verify its contents and structure.\n",
    "districts.head()"
   ]
  },
  {
   "cell_type": "markdown",
   "id": "0ba291ec-abc2-47e7-9c4a-53b04d6d9403",
   "metadata": {},
   "source": [
    "Next, to write the data into a file we can use the GeoDataFrame.to_file() function to write the data into a Shapefile by default but you can convert it into GeoJSON using the driver parameter."
   ]
  },
  {
   "cell_type": "code",
   "execution_count": null,
   "id": "54e4a125-e431-47de-8550-41360aeba764",
   "metadata": {},
   "outputs": [],
   "source": [
    "# Save the 'districts' GeoDataFrame to a file named 'districts.geojson' using the GeoJSON format.\n",
    "# This utilizes the 'GeoJSON' driver to ensure the data is correctly formatted for GeoJSON files.\n",
    "districts.to_file(\"districts.geojson\", driver=\"GeoJSON\")"
   ]
  },
  {
   "cell_type": "markdown",
   "id": "f7be355b-51c2-40fd-bd2c-24f22a711a72",
   "metadata": {},
   "source": [
    "### 3. GeoDataFrames Properties\n",
    "#### Overview: \n",
    "GeoDataFrames, a subclass of pandas DataFrames, inherit many of their parent class's features but are distinctively enhanced to handle geospatial data. The primary enhancement is the ability to store geometry columns, known as GeoSeries, which allow for a range of spatial operations.\n",
    "\n",
    "#### Geometry and Active Geometry Column: \n",
    "Within a GeoDataFrame, the geometry column is capable of holding various types of vector data such as points, lines, and polygons. Among these, only one column is designated as the active geometry, serving as the foundation for all spatial operations conducted within the GeoDataFrame.\n",
    "\n",
    "#### Coordinate Reference System (CRS): \n",
    "A pivotal feature of GeoDataFrames is the incorporation of CRS information for each column, which specifies the geographic coordinates system used to define the spatial locations of the geometries. This attribute is crucial for spatial analysis; mismatched CRSs between different spatial datasets can lead to inaccurate results when they are combined. The CRS details are accessible through the crs attribute in GeoPandas, ensuring data consistency across different geospatial analyses.\n",
    "\n",
    "#### Importance of CRS Alignment: \n",
    "Ensuring that spatial datasets share a uniform CRS is fundamental in geospatial analysis, as discrepancies in CRS can lead to significant errors in location-based results. GeoPandas stores and manages this information efficiently, making it easier to handle transformations and operations across different datasets."
   ]
  },
  {
   "cell_type": "code",
   "execution_count": null,
   "id": "b5b9e313-74a2-4d90-90bf-b081144003b9",
   "metadata": {},
   "outputs": [],
   "source": [
    "# Retrieve and display the Coordinate Reference System (CRS) information of the 'districts' GeoDataFrame.\n",
    "# This CRS describes how the geometric data in 'districts' relates to positions on the Earth.\n",
    "districts.crs"
   ]
  },
  {
   "cell_type": "markdown",
   "id": "66b2b1a5-baa2-4fa3-a4f7-bded0eb8e878",
   "metadata": {},
   "source": [
    "### 4. Exploring GeoDataFrames"
   ]
  },
  {
   "cell_type": "markdown",
   "id": "de05f4e8-b197-403b-a476-ff4b7a24e8dd",
   "metadata": {},
   "source": [
    "GeoPandas has four useful methods and attributes that can be used to explore the data. We will explore these four methods:\n",
    "\n",
    "* Area\n",
    "* Centroid\n",
    "* Boundary\n",
    "* Distance"
   ]
  },
  {
   "cell_type": "markdown",
   "id": "58cabdae-0a6b-477a-aab0-11bb767fc9fe",
   "metadata": {},
   "source": [
    "#### 4.1 Area\n",
    "##### Understanding Area Calculation in GeoDataFrames:\n",
    "The 'area' attribute of a GeoDataFrame is essential for quantifying the space that a geometry occupies on Earth, typically measured in square meters or square kilometers. This calculation becomes particularly vital in urban planning, agriculture, or environmental science, where understanding the extent of land use is crucial. For accurate area measurements, it is important to use a projected coordinate reference system (CRS) that minimizes area distortion, such as EPSG:3857 (Web Mercator).\n",
    "##### Example of Area Calculation:\n",
    "By projecting the GeoDataFrame to an appropriate CRS and utilizing the area attribute, users can easily compute and inspect the areas of various geometries like districts or land plots. This function simplifies comparative analysis of geographic regions in terms of their size."
   ]
  },
  {
   "cell_type": "code",
   "execution_count": null,
   "id": "403580bc-e5da-444c-bc73-b38b3864e894",
   "metadata": {},
   "outputs": [],
   "source": [
    "import geopandas as gpd\n",
    "\n",
    "# Load your data - assuming it's already loaded in 'districts'\n",
    "# Convert CRS to a projected system, example using a common world projection EPSG:3857 (Web Mercator)\n",
    "districts_projected = districts.to_crs(epsg=3857)\n",
    "\n",
    "# Now calculate the area in square meters\n",
    "districts_projected['area_m2'] = districts_projected.area\n",
    "# Display the area results to verify\n",
    "print(districts_projected['area_m2'])\n"
   ]
  },
  {
   "cell_type": "markdown",
   "id": "882845ec-7e82-40c4-bcf9-cf9a5796ba43",
   "metadata": {},
   "source": [
    "#### 4.2 Centroid\n",
    "##### Exploring Geometric Centroids:\n",
    "The centroid method computes the geometric center of a polygon, which is the average position of all the points of the figure. In the context of geographic data, centroids are useful for simplifying complex shapes into more manageable points and for performing various spatial analyses, such as clustering or calculating distances between regions.\n",
    "\n",
    "##### Practical Application of Centroids:\n",
    "In urban planning or demographics, centroids help represent the central point of areas like electoral districts or service regions, aiding in various logistical optimizations and spatial decision-making processes."
   ]
  },
  {
   "cell_type": "code",
   "execution_count": null,
   "id": "c032fce6-2631-4467-9da5-629d6b0c1c54",
   "metadata": {},
   "outputs": [],
   "source": [
    "# Calculate the boundary of each geometry\n",
    "districts['boundary'] = districts.geometry.boundary\n",
    "\n",
    "# Display the first few boundaries to verify\n",
    "print(districts['boundary'].head())\n"
   ]
  },
  {
   "cell_type": "markdown",
   "id": "a1827d4d-3417-4382-8cbf-32a4111028c2",
   "metadata": {},
   "source": [
    "* Verify the CRS Transformation\n",
    "    * Ensure that the transformation was successful:"
   ]
  },
  {
   "cell_type": "code",
   "execution_count": null,
   "id": "4ccd3068-77d8-4888-b648-33cbd88e069b",
   "metadata": {},
   "outputs": [],
   "source": [
    "# Print the CRS to confirm\n",
    "print(districts_projected.crs)"
   ]
  },
  {
   "cell_type": "markdown",
   "id": "93718425-d3ef-4819-9c74-e09ac274df92",
   "metadata": {},
   "source": [
    "#### 4.3 Boundary\n",
    "##### Calculating Geometric Boundaries:\n",
    "The boundary method returns a representation of the outer edge of each geometry in a GeoDataFrame, usually as a LineString or MultiLineString. This is particularly useful in defining the limits of geographic features without the interior complexity, allowing for clearer visualizations and boundary-focused analyses.\n",
    "\n",
    "##### Visualization and Analysis of Boundaries:\n",
    "Plotting these boundaries can provide valuable insights into geographical separations and adjacencies, which is beneficial for tasks such as border patrols, resource management, and infrastructural development."
   ]
  },
  {
   "cell_type": "code",
   "execution_count": null,
   "id": "e8c9584e-c200-4fe6-847f-30439730d5e5",
   "metadata": {},
   "outputs": [],
   "source": [
    "import geopandas as gpd\n",
    "\n",
    "# Assuming your GeoDataFrame 'districts' is already loaded\n",
    "# Calculate the boundary of each geometry\n",
    "districts['boundary'] = districts.geometry.boundary\n",
    "\n",
    "# Print the 'boundary' column to verify\n",
    "print(districts[['boundary']])"
   ]
  },
  {
   "cell_type": "code",
   "execution_count": null,
   "id": "4852042b-d8b2-4354-baca-955b5e36d433",
   "metadata": {},
   "outputs": [],
   "source": [
    "#pip install pillow"
   ]
  },
  {
   "cell_type": "code",
   "execution_count": null,
   "id": "dfd5a1db-a8f6-4038-b943-c543a77dc568",
   "metadata": {},
   "outputs": [],
   "source": [
    "#pip install matplotlib"
   ]
  },
  {
   "cell_type": "code",
   "execution_count": null,
   "id": "fbdb8c64-9494-45cb-8581-dbc782ec7bc1",
   "metadata": {},
   "outputs": [],
   "source": [
    "#pip install pillow numpy"
   ]
  },
  {
   "cell_type": "code",
   "execution_count": null,
   "id": "1b0ed117-42af-4d35-b649-0aa561d89041",
   "metadata": {},
   "outputs": [],
   "source": [
    "import matplotlib.pyplot as plt\n",
    "\n",
    "# Plot the boundaries for visual inspection\n",
    "districts['boundary'].plot()\n",
    "plt.show()"
   ]
  },
  {
   "cell_type": "markdown",
   "id": "916e84c9-f612-4d9f-a486-8deca9bd98dd",
   "metadata": {},
   "source": [
    "#### 4.4 Distance\n",
    "##### Overview\n",
    "The distance method is used to calculate the shortest distance from a specific geometry to a designated point. As an example, we will determine the distance from the Sagrada Familia church to the centroids of each district in Barcelona and subsequently store these distances in kilometers in a new column within our GeoDataFrame."
   ]
  },
  {
   "cell_type": "markdown",
   "id": "e70fcde1-7f25-47d7-96db-ecdfd94b58b0",
   "metadata": {},
   "source": [
    "##### Step 1: Define Sagrada Familia's Geometry\n",
    "First, create a Point geometry for Sagrada Familia. It's essential to input the longitude and latitude in their correct order. Also, ensure that the point is established in the appropriate geographic CRS, which is typically EPSG:4326 for global reference."
   ]
  },
  {
   "cell_type": "code",
   "execution_count": null,
   "id": "a4340ecc-82ca-4f2a-ac58-f7b713cd86bb",
   "metadata": {},
   "outputs": [],
   "source": [
    "from shapely.geometry import Point\n",
    "import geopandas as gpd\n",
    "\n",
    "# Create Point object for Sagrada Familia with longitude and latitude\n",
    "sagrada_fam = Point(2.17436080058505, 41.40356946781304)  # Long, Lat\n"
   ]
  },
  {
   "cell_type": "markdown",
   "id": "482beafa-ea77-4468-a56c-9550358e1e71",
   "metadata": {},
   "source": [
    "##### Step 2: Standardize CRS Across Geometries\n",
    "To ensure accuracy in distance calculations, convert both the Point representing Sagrada Familia and the GeoDataFrame containing district centroids to the same projected CRS. A local CRS that minimizes distance distortion, such as EPSG:25831 (ETRS89 / UTM zone 31N), is recommended for Barcelona. This standardization is crucial for precise spatial analysis."
   ]
  },
  {
   "cell_type": "code",
   "execution_count": null,
   "id": "c84bbf0d-7aec-4913-9885-dcda14ae73e2",
   "metadata": {},
   "outputs": [],
   "source": [
    "# Set CRS for Sagrada Familia point to match the geographic CRS of districts\n",
    "sagrada_fam = gpd.GeoSeries([sagrada_fam], crs=4326)\n",
    "\n",
    "# Convert both geometries to a local projected CRS for Barcelona\n",
    "sagrada_fam = sagrada_fam.to_crs(epsg=25831)\n",
    "districts = districts.to_crs(epsg=25831)\n",
    "\n",
    "# Calculate centroids for districts in the same CRS\n",
    "districts['centroid'] = districts.geometry.centroid"
   ]
  },
  {
   "cell_type": "markdown",
   "id": "b802a4ea-624d-4a8e-93d7-3e21973a6067",
   "metadata": {},
   "source": [
    "##### Step 3: Compute Distances\n",
    "Finally, calculate the distance from the Sagrada Familia to each district’s centroid using the distance method. This computation will yield distances in meters, providing a precise measurement of how far each district is from this landmark."
   ]
  },
  {
   "cell_type": "markdown",
   "id": "55aa4c74-6f10-44d1-96c9-1388e757000f",
   "metadata": {},
   "source": [
    "Implementation Example\n",
    "<br>Here is how you might implement these steps in code:"
   ]
  },
  {
   "cell_type": "code",
   "execution_count": null,
   "id": "d31c94be-9ca3-462f-b3f8-d5b61b08e8da",
   "metadata": {},
   "outputs": [],
   "source": [
    "# Calculate distance from Sagrada Familia to each centroid\n",
    "districts['sagrada_fam_dist'] = districts['centroid'].apply(lambda x: sagrada_fam.distance(x)[0])\n",
    "\n",
    "# Convert distance from meters to kilometers for easier interpretation\n",
    "districts['sagrada_fam_dist_km'] = districts['sagrada_fam_dist'] / 1000\n",
    "\n",
    "# Display the distances\n",
    "print(districts[['sagrada_fam_dist_km']])"
   ]
  },
  {
   "cell_type": "markdown",
   "id": "52c22399-361b-4e9c-863c-382062bd1148",
   "metadata": {},
   "source": [
    "### 5. Plotting Data with GeoPandas\n",
    "#### Overview\n",
    "Visualizing geospatial data is a fundamental step in understanding the underlying patterns and distributions within your data. GeoPandas simplifies this process significantly, leveraging the familiar plotting capabilities of Pandas alongside the powerful features of Matplotlib.\n",
    "\n",
    "#### Basic Plotting with GeoPandas\n",
    "GeoPandas makes plotting straightforward through the GeoDataFrame.plot() function, which is seamlessly integrated with the Matplotlib library. This integration allows for quick and effective visual representations of geospatial data.\n",
    "\n",
    "#### Example: Visualizing Barcelona's Districts\n",
    "To begin, let's visualize the districts of Barcelona with a simple plot:"
   ]
  },
  {
   "cell_type": "code",
   "execution_count": null,
   "id": "b20c9e53-97d9-4aca-bfc8-dfa540a0b485",
   "metadata": {},
   "outputs": [],
   "source": [
    "# Plot the 'districts' GeoDataFrame on a matplotlib axis with a specified figure size of 10 inches by 6 inches.\n",
    "ax = districts.plot(figsize=(10,6))"
   ]
  },
  {
   "cell_type": "markdown",
   "id": "e8d21645-8f3c-4337-aff8-708d7808db50",
   "metadata": {},
   "source": [
    "#### Enhancing the Plot with Color Differentiation\n",
    "While the initial plot provides a basic outline, it can be made more informative by applying a unique color to each district, enhancing the visual differentiation:"
   ]
  },
  {
   "cell_type": "code",
   "execution_count": null,
   "id": "4bf89ab3-3f7b-4462-a252-ee5dbed03416",
   "metadata": {},
   "outputs": [],
   "source": [
    "# Plot the 'districts' GeoDataFrame, coloring the districts based on the 'DISTRICTE' column values.\n",
    "# Set the figure size to 10 inches by 6 inches for better visibility.\n",
    "# Use black for the edges of each district to enhance visual distinction.\n",
    "# Include a legend to describe the color mapping of the 'DISTRICTE' values.\n",
    "ax = districts.plot(column='DISTRICTE', figsize=(10,6), edgecolor='black', legend=True)"
   ]
  },
  {
   "cell_type": "markdown",
   "id": "6caa5744-a65c-4e75-8187-3f4312e00933",
   "metadata": {},
   "source": [
    "#### Adding Centroids for More Detail\n",
    "For further detail, we can overlay the centroids of each district on the map, providing a focal point for each area:"
   ]
  },
  {
   "cell_type": "code",
   "execution_count": null,
   "id": "b4928e6f-2a71-4597-b49f-62ced481f49b",
   "metadata": {},
   "outputs": [],
   "source": [
    "#pip install contextily"
   ]
  },
  {
   "cell_type": "code",
   "execution_count": null,
   "id": "1ce1c584-ac45-41f1-ac98-e54b86ade20d",
   "metadata": {},
   "outputs": [],
   "source": [
    "#pip install pyproj rasterio geopandas"
   ]
  },
  {
   "cell_type": "code",
   "execution_count": null,
   "id": "6322ee4f-6687-43d8-987c-8d8298fae1f7",
   "metadata": {},
   "outputs": [],
   "source": [
    "import contextily\n",
    "import matplotlib.pyplot as plt\n",
    "\n",
    "# Plot the districts with color and centroids\n",
    "ax = districts.plot(column='DISTRICTE', figsize=(12, 6), alpha=0.5, legend=True)\n",
    "districts[\"centroid\"].plot(ax=ax, color=\"green\")\n",
    "\n",
    "# Add basemap using contextily\n",
    "contextily.add_basemap(ax, crs=districts.crs.to_string())\n",
    "\n",
    "plt.title('Colored Map with the Centroid of Barcelona')\n",
    "plt.axis('off')\n",
    "plt.show()\n"
   ]
  },
  {
   "cell_type": "markdown",
   "id": "99d6fc96-13fb-4821-9a8e-75a9cbf31612",
   "metadata": {},
   "source": [
    "#### Summary\n",
    "These steps demonstrate how GeoPandas can be employed to not only plot basic geospatial data but also enhance visualizations with color schemes and additional geometric markers such as centroids. This approach is not only easy and straightforward but also incredibly powerful for conducting comprehensive geospatial analyses and presentations."
   ]
  },
  {
   "cell_type": "markdown",
   "id": "7c135084-df75-4f29-b410-2011d22b379c",
   "metadata": {},
   "source": [
    "## Folium: Interactive Map Visualization\n",
    "### Introduction to Folium\n",
    "Folium is a versatile Python library designed to create interactive maps that leverage the capabilities of the Leaflet JavaScript library. It is particularly effective for adding markers, pop-ups, choropleths, and various other layers to your maps, making it a prime choice for dynamic geospatial data representation. The integration with HTML allows for easy sharing and accessibility of these interactive maps.\n",
    "\n",
    "### Integration and Compatibility\n",
    "Folium seamlessly integrates with other Python geospatial libraries such as GeoPandas and Cartopy, enhancing its utility in handling complex geospatial datasets. Its use of Map Tiles enables the management of large datasets, which is crucial for detailed mapping applications. Despite its ease of use and aesthetic appeal, Folium may encounter limitations when tackling more advanced geospatial analyses and manipulations.\n",
    "\n",
    "### Practical Applications\n",
    "Folium is particularly useful in domains like supply chain management and logistics, where visualizing distribution networks, optimizing routes, and monitoring real-time locations of shipments are vital. Its interactive features allow for an engaging presentation of data that can inform decision-making processes effectively.\n",
    "\n",
    "### Installing Folium\n",
    "To start creating interactive maps with Folium, you first need to install the library. This can be done via pip:"
   ]
  },
  {
   "cell_type": "code",
   "execution_count": null,
   "id": "1f827371-a41f-4872-a227-dc6caf739598",
   "metadata": {},
   "outputs": [],
   "source": [
    "#pip install folium"
   ]
  },
  {
   "cell_type": "markdown",
   "id": "75b56e08-9994-4f6b-b604-7c2a0b14e089",
   "metadata": {},
   "source": [
    "### Creating Maps with Folium and Leaflet\n",
    "#### Generating Interactive Maps\n",
    "Creating a map with Folium starts with defining the initial location and zoom level. Here’s how to quickly get started:\n",
    "#### Get Lat Long from Address:\n",
    "https://www.latlong.net/convert-address-to-lat-long.html"
   ]
  },
  {
   "cell_type": "code",
   "execution_count": null,
   "id": "55eccc25-076d-456d-96f2-02ad03cc5957",
   "metadata": {
    "scrolled": true
   },
   "outputs": [],
   "source": [
    "import folium\n",
    "\n",
    "# Define the initial location and zoom level\n",
    "map = folium.Map(location=[49.263570, -123.138570], zoom_start=15)\n",
    "\n",
    "# Display the map\n",
    "map"
   ]
  },
  {
   "cell_type": "markdown",
   "id": "da03d7fc-efa2-45d5-8b7d-87e8b7856a27",
   "metadata": {},
   "source": [
    "### Adding Markers and Pop-ups\n",
    "To add more interactivity, markers and pop-ups can be placed on the map to provide additional information:"
   ]
  },
  {
   "cell_type": "code",
   "execution_count": null,
   "id": "5ce146a6-af90-4d3b-b8bc-82bbc7f04bb1",
   "metadata": {
    "scrolled": true
   },
   "outputs": [],
   "source": [
    "# Adding a marker with a simple pop-up\n",
    "folium.Marker(\n",
    "    [49.283570, -123.115020], \n",
    "    popup=\"<strong>BCIT Downtown Campus</strong>\", \n",
    "    tooltip=\"Click for mre information\"\n",
    ").add_to(map)\n",
    "\n",
    "# Show the updated map\n",
    "map"
   ]
  },
  {
   "cell_type": "code",
   "execution_count": null,
   "id": "c22e2c10-3f82-4d94-8ec7-6f0ba029d815",
   "metadata": {},
   "outputs": [],
   "source": [
    "import folium\n",
    "\n",
    "# Create a map centered around the specific location\n",
    "m = folium.Map(location=[49.253349, -123.004204], zoom_start=15)\n",
    "\n",
    "# Add a marker to the map with a custom icon and tooltip\n",
    "marker = folium.Marker(\n",
    "    location=[49.253349, -123.004204],\n",
    "    popup=\"<strong>BCIT Burnaby Campus</strong>\",\n",
    "    icon=folium.Icon(icon='envelope', color='red'),\n",
    "    tooltip=\"Click for more information\"\n",
    ")\n",
    "\n",
    "# Add the marker to the map\n",
    "marker.add_to(m)\n",
    "\n",
    "# Display the map\n",
    "m"
   ]
  },
  {
   "cell_type": "markdown",
   "id": "c9ec6b7c-c800-45bc-a3d5-be52d92358c6",
   "metadata": {},
   "source": [
    "### Distance Between Two Campus:"
   ]
  },
  {
   "cell_type": "code",
   "execution_count": null,
   "id": "c064b375-a5e2-47db-a15a-e3e6aed0728e",
   "metadata": {},
   "outputs": [],
   "source": [
    "pip install geopy"
   ]
  },
  {
   "cell_type": "code",
   "execution_count": null,
   "id": "37d9f9fe-ff73-4a7f-96cc-83c37fde7efe",
   "metadata": {},
   "outputs": [],
   "source": [
    "from geopy.distance import geodesic\n",
    "\n",
    "# Correct coordinates of campus 1 (latitude, longitude)\n",
    "campus1_coords = (49.283569, -123.115021)  # Example corrected values\n",
    "\n",
    "# Correct coordinates of campus 2 (latitude, longitude)\n",
    "campus2_coords = (49.248569, -123.001021)  # Example corrected values\n",
    "\n",
    "# Calculate the distance between the two campuses\n",
    "distance_km = geodesic(campus1_coords, campus2_coords).kilometers  # Distance in kilometers\n",
    "distance_miles = geodesic(campus1_coords, campus2_coords).miles  # Distance in miles\n",
    "\n",
    "print(f\"The distance between the two campuses is approximately {distance_km:.2f} kilometers.\")\n",
    "print(f\"The distance between the two campuses is approximately {distance_miles:.2f} miles.\")"
   ]
  },
  {
   "cell_type": "markdown",
   "id": "3a9fbe84-bc13-4412-9d95-a9945850698c",
   "metadata": {},
   "source": [
    "Folium offers a straightforward and visually appealing way to create interactive maps for various applications, enhancing the accessibility and interpretation of spatial data. Whether for professional presentations, academic projects, or personal use, Folium empowers users to build rich, interactive geospatial visualizations."
   ]
  }
 ],
 "metadata": {
  "kernelspec": {
   "display_name": "Python 3 (ipykernel)",
   "language": "python",
   "name": "python3"
  },
  "language_info": {
   "codemirror_mode": {
    "name": "ipython",
    "version": 3
   },
   "file_extension": ".py",
   "mimetype": "text/x-python",
   "name": "python",
   "nbconvert_exporter": "python",
   "pygments_lexer": "ipython3",
   "version": "3.12.6"
  }
 },
 "nbformat": 4,
 "nbformat_minor": 5
}
